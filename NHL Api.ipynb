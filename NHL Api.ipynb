{
 "cells": [
  {
   "cell_type": "code",
   "execution_count": 69,
   "metadata": {},
   "outputs": [],
   "source": [
    "import requests\n",
    "\n",
    "url = \"https://statsapi.web.nhl.com/api/v1/game/2018020001/feed/live?site=en_nhl\"\n",
    "\n",
    "response = requests.request(\"GET\", url)\n",
    "\n",
    "payload = response.json()\n",
    "\n",
    "gamePk = payload['gamePk']\n",
    "link = payload['link']\n",
    "metaData = payload['metaData']\n",
    "gameData = payload['gameData']\n",
    "liveData = payload['liveData']\n",
    "\n",
    "game = gameData['game']\n",
    "datetime = gameData['datetime']\n",
    "status = gameData['status']\n",
    "teams = gameData['teams']\n",
    "players = gameData['players']\n",
    "venue = gameData['venue']\n",
    "\n",
    "plays = liveData['plays']\n",
    "linescore = liveData['linescore']\n",
    "boxscore = liveData['boxscore']\n",
    "decisions = liveData['decisions']\n",
    "\n"
   ]
  },
  {
   "cell_type": "code",
   "execution_count": 101,
   "metadata": {},
   "outputs": [
    {
     "name": "stdout",
     "output_type": "stream",
     "text": [
      "[{'player': {'id': 8477476, 'fullName': 'Artturi Lehkonen', 'link': '/api/v1/people/8477476'}, 'playerType': 'Scorer', 'seasonTotal': 1}, {'player': {'id': 8477503, 'fullName': 'Max Domi', 'link': '/api/v1/people/8477503'}, 'playerType': 'Assist', 'seasonTotal': 1}, {'player': {'id': 8474038, 'fullName': 'Paul Byron', 'link': '/api/v1/people/8474038'}, 'playerType': 'Assist', 'seasonTotal': 1}, {'player': {'id': 8475883, 'fullName': 'Frederik Andersen', 'link': '/api/v1/people/8475883'}, 'playerType': 'Goalie'}]\n",
      "{'event': 'Goal', 'eventCode': 'TOR32', 'eventTypeId': 'GOAL', 'description': 'Artturi Lehkonen (1) Wrap-around, assists: Max Domi (1), Paul Byron (1)', 'secondaryType': 'Wrap-around', 'strength': {'code': 'EVEN', 'name': 'Even'}, 'gameWinningGoal': False, 'emptyNet': False}\n",
      "{'eventIdx': 43, 'eventId': 32, 'period': 1, 'periodType': 'REGULAR', 'ordinalNum': '1st', 'periodTime': '09:34', 'periodTimeRemaining': '10:26', 'dateTime': '2018-10-03T23:31:34Z', 'goals': {'away': 1, 'home': 0}}\n",
      "{'x': 87.0, 'y': -3.0}\n",
      "{'id': 8, 'name': 'Montréal Canadiens', 'link': '/api/v1/teams/8', 'triCode': 'MTL'}\n"
     ]
    }
   ],
   "source": [
    "all_plays = plays['allPlays']\n",
    "scoring_plays = plays['scoringPlays']\n",
    "penalty_plays = plays['penaltyPlays']\n",
    "plays_by_period = plays['playsByPeriod']\n",
    "\n",
    "goals = [all_plays[i] for i in scoring_plays]\n",
    "penalties = [all_plays[i] for i in penalty_plays]\n",
    "\n",
    "for key in goals[0].keys():\n",
    "    print(goals[0][key])\n",
    "\n",
    "for period in plays_by_period:\n",
    "    period_play_ids = period['plays']\n",
    "    period_plays = [all_plays[i] for i in period_play_ids]\n"
   ]
  }
 ],
 "metadata": {
  "kernelspec": {
   "display_name": "Python 3",
   "language": "python",
   "name": "python3"
  },
  "language_info": {
   "codemirror_mode": {
    "name": "ipython",
    "version": 3
   },
   "file_extension": ".py",
   "mimetype": "text/x-python",
   "name": "python",
   "nbconvert_exporter": "python",
   "pygments_lexer": "ipython3",
   "version": "3.7.0"
  }
 },
 "nbformat": 4,
 "nbformat_minor": 2
}
